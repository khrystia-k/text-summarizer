{
 "cells": [
  {
   "cell_type": "markdown",
   "metadata": {},
   "source": [
    "# Implementation of  text summarizer inspired by the CoD approach"
   ]
  },
  {
   "cell_type": "code",
   "execution_count": 9,
   "metadata": {},
   "outputs": [],
   "source": [
    "# python built-in module\n",
    "import yaml\n",
    "import os\n",
    "import json\n",
    "\n",
    "# python installed module\n",
    "from dotenv import load_dotenv\n",
    "from langchain.chat_models import ChatOpenAI\n",
    "from langchain.callbacks import get_openai_callback\n",
    "from langchain.schema import HumanMessage, SystemMessage\n",
    "\n",
    "# python user defined module\n",
    "import prompt\n"
   ]
  },
  {
   "cell_type": "code",
   "execution_count": 10,
   "metadata": {},
   "outputs": [
    {
     "data": {
      "text/plain": [
       "True"
      ]
     },
     "execution_count": 10,
     "metadata": {},
     "output_type": "execute_result"
    }
   ],
   "source": [
    "# loading environment variable OPENAI_API_KEY from .env file\n",
    "load_dotenv('.env')"
   ]
  },
  {
   "cell_type": "code",
   "execution_count": 11,
   "metadata": {},
   "outputs": [],
   "source": [
    "# reading config file\n",
    "with open('config.yaml', \"r\") as yaml_file:\n",
    "        config_dict = yaml.safe_load(yaml_file)"
   ]
  },
  {
   "cell_type": "code",
   "execution_count": 12,
   "metadata": {},
   "outputs": [],
   "source": [
    "# reading text from an input file\n",
    "input_file_name = config_dict[\"io_config\"][\"input_file\"]\n",
    "input_file_path = os.path.join(os.path.dirname(os.path.realpath('__file__')), \"input\", input_file_name)\n",
    "\n",
    "with open(input_file_path, \"r\") as input_file:\n",
    "    text_content = input_file.read()"
   ]
  },
  {
   "cell_type": "code",
   "execution_count": 13,
   "metadata": {},
   "outputs": [],
   "source": [
    "# send prompt and receive response from the GPT model\n",
    "openai= ChatOpenAI(model=config_dict[\"cod\"][\"model_name\"],\n",
    "                                   temperature=config_dict[\"cod\"][\"temperature\"],\n",
    "                                   max_tokens=config_dict[\"cod\"][\"max_tokens\"],\n",
    "                                   model_kwargs={\"top_p\": config_dict[\"cod\"][\"top_p\"],\n",
    "                                                 \"presence_penalty\": config_dict[\"cod\"][\"presence_penalty\"],\n",
    "                                                 \"frequency_penalty\": config_dict[\"cod\"][\"frequency_penalty\"]})\n",
    "\n",
    "cod_messages = [SystemMessage(content=prompt.COD_SYSTEM_PROMPT),\n",
    "                HumanMessage(content=\"Here is the input text for you to summarize:\\n\\n{}\".format(text_content))\n",
    "                           ]\n",
    "\n",
    "with get_openai_callback() as openai_cb:\n",
    "    cod_response = openai(cod_messages)\n",
    "\n",
    "output = cod_response.content"
   ]
  },
  {
   "cell_type": "code",
   "execution_count": 14,
   "metadata": {},
   "outputs": [],
   "source": [
    "# writing received responce to the file\n",
    "output_file_name = config_dict[\"io_config\"][\"output_file\"]\n",
    "output_file_path = os.path.join(os.path.dirname(os.path.realpath('__file__')), \"output\", output_file_name)\n",
    "\n",
    "output_dict = json.loads(output.replace(\"\\n\", \"\"))\n",
    "summary = output_dict[-1]['Denser_Summary']\n",
    "\n",
    "result = {\"summary\": summary,\n",
    "          \"metadata\": {\"total_tokens\": openai_cb.total_tokens,\n",
    "                       \"total_cost\": round(openai_cb.total_cost, 3)}}\n",
    "\n",
    "with open(output_file_path, 'w') as json_file:\n",
    "    json.dump(result, json_file)"
   ]
  },
  {
   "cell_type": "code",
   "execution_count": 15,
   "metadata": {},
   "outputs": [
    {
     "name": "stdout",
     "output_type": "stream",
     "text": [
      "Input text size: 543 words\n",
      "Output text size: 53 words\n"
     ]
    }
   ],
   "source": [
    "print(f'Input text size: {len(text_content.split(\" \"))} words')\n",
    "print(f'Output text size: {len(summary.split(\" \"))} words')"
   ]
  }
 ],
 "metadata": {
  "kernelspec": {
   "display_name": "Python 3",
   "language": "python",
   "name": "python3"
  },
  "language_info": {
   "codemirror_mode": {
    "name": "ipython",
    "version": 3
   },
   "file_extension": ".py",
   "mimetype": "text/x-python",
   "name": "python",
   "nbconvert_exporter": "python",
   "pygments_lexer": "ipython3",
   "version": "3.10.14"
  }
 },
 "nbformat": 4,
 "nbformat_minor": 2
}
